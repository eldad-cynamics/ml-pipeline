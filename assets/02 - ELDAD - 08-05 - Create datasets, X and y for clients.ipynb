{
 "cells": [
  {
   "cell_type": "code",
   "execution_count": 1,
   "metadata": {},
   "outputs": [],
   "source": [
    "%load_ext autoreload\n",
    "%autoreload 2\n",
    "\n",
    "import gc\n",
    "from datetime import datetime\n",
    "from matplotlib import pyplot as plt\n",
    "\n",
    "# from X_generator import *\n",
    "from create_dataset_utils import *"
   ]
  },
  {
   "cell_type": "code",
   "execution_count": 2,
   "metadata": {},
   "outputs": [
    {
     "data": {
      "text/html": [
       "<div>\n",
       "<style scoped>\n",
       "    .dataframe tbody tr th:only-of-type {\n",
       "        vertical-align: middle;\n",
       "    }\n",
       "\n",
       "    .dataframe tbody tr th {\n",
       "        vertical-align: top;\n",
       "    }\n",
       "\n",
       "    .dataframe thead th {\n",
       "        text-align: right;\n",
       "    }\n",
       "</style>\n",
       "<table border=\"1\" class=\"dataframe\">\n",
       "  <thead>\n",
       "    <tr style=\"text-align: right;\">\n",
       "      <th></th>\n",
       "      <th>client</th>\n",
       "      <th>device</th>\n",
       "      <th>sr</th>\n",
       "      <th>model_version</th>\n",
       "      <th>account_id</th>\n",
       "      <th>device_id</th>\n",
       "      <th>v1_model_name</th>\n",
       "      <th>v3_model_name</th>\n",
       "      <th>status</th>\n",
       "    </tr>\n",
       "  </thead>\n",
       "  <tbody>\n",
       "    <tr>\n",
       "      <th>0</th>\n",
       "      <td>Kcdda</td>\n",
       "      <td>1</td>\n",
       "      <td>0.004000</td>\n",
       "      <td>1</td>\n",
       "      <td>5ea84272173b3d0011b3621f</td>\n",
       "      <td>5ea9c267173b3d0011b36ee2</td>\n",
       "      <td>06-24-Kcdda-1-v1-048-f9076f00</td>\n",
       "      <td>06-24-Kcdda-1-v3-001-ec8de1a5</td>\n",
       "      <td>active</td>\n",
       "    </tr>\n",
       "    <tr>\n",
       "      <th>2</th>\n",
       "      <td>SickKids</td>\n",
       "      <td>1</td>\n",
       "      <td>0.010000</td>\n",
       "      <td>2</td>\n",
       "      <td>5e99a9e22386af0010ba7404</td>\n",
       "      <td>5ec54b3d4d4a86001106cf08</td>\n",
       "      <td>sagemaker-ecr-2020-06-28-15-01-51-517</td>\n",
       "      <td>sagemaker-ecr-2020-06-28-15-37-20-869</td>\n",
       "      <td>active</td>\n",
       "    </tr>\n",
       "    <tr>\n",
       "      <th>3</th>\n",
       "      <td>WMU</td>\n",
       "      <td>1</td>\n",
       "      <td>0.000020</td>\n",
       "      <td>1</td>\n",
       "      <td>5ec7da694d4a86001106da83</td>\n",
       "      <td>5ec7db437f736700114636a9</td>\n",
       "      <td>06-24-WMU-1-v1-014-07b2bf1c</td>\n",
       "      <td>06-24-WMU-1-v3-036-85e12877</td>\n",
       "      <td>active</td>\n",
       "    </tr>\n",
       "    <tr>\n",
       "      <th>8</th>\n",
       "      <td>Peachtree</td>\n",
       "      <td>1</td>\n",
       "      <td>0.010000</td>\n",
       "      <td>5</td>\n",
       "      <td>5e85a5cc008b0c0010ed90da</td>\n",
       "      <td>5f07251af684220011267b3f</td>\n",
       "      <td>09-16-Peachtree-1-v1-004-55d9e3c8</td>\n",
       "      <td>09-16-Peachtree-1-v3-032-a01d1236</td>\n",
       "      <td>active</td>\n",
       "    </tr>\n",
       "    <tr>\n",
       "      <th>9</th>\n",
       "      <td>Eugene</td>\n",
       "      <td>1</td>\n",
       "      <td>0.000500</td>\n",
       "      <td>1</td>\n",
       "      <td>5ed4e7c5403dc20018b47e6c</td>\n",
       "      <td>5f19fcb75a19bc0011aa61dc</td>\n",
       "      <td>07-29-Eugene-1-v1-043-a3dcd90a</td>\n",
       "      <td>07-29-Eugene-1-v3-050-0dd4dee8</td>\n",
       "      <td>active</td>\n",
       "    </tr>\n",
       "    <tr>\n",
       "      <th>10</th>\n",
       "      <td>Eugene</td>\n",
       "      <td>2</td>\n",
       "      <td>0.000500</td>\n",
       "      <td>1</td>\n",
       "      <td>5ed4e7c5403dc20018b47e6c</td>\n",
       "      <td>5f1b1cbd5a19bc0011aa66ff</td>\n",
       "      <td>07-29-Eugene-2-v1-036-a7983719</td>\n",
       "      <td>07-29-Eugene-2-v3-021-fa6da1bb</td>\n",
       "      <td>active</td>\n",
       "    </tr>\n",
       "    <tr>\n",
       "      <th>11</th>\n",
       "      <td>Eugene</td>\n",
       "      <td>Firewall</td>\n",
       "      <td>0.000500</td>\n",
       "      <td>1</td>\n",
       "      <td>5ed4e7c5403dc20018b47e6c</td>\n",
       "      <td>5f19f5f45a19bc0011aa618e</td>\n",
       "      <td>07-29-Eugene-Firewall-v1-011-d016f378</td>\n",
       "      <td>07-29-Eugene-Firewall-v3-015-5ac69009</td>\n",
       "      <td>active</td>\n",
       "    </tr>\n",
       "    <tr>\n",
       "      <th>12</th>\n",
       "      <td>DouglasCounty</td>\n",
       "      <td>1</td>\n",
       "      <td>0.000122</td>\n",
       "      <td>1</td>\n",
       "      <td>5f15d4502997970011989705</td>\n",
       "      <td>5f1eee725a19bc0011aa73dd</td>\n",
       "      <td>08-05-DouglasCounty-1-v1-025-b6d4f962</td>\n",
       "      <td>08-05-DouglasCounty-1-v3-006-1d38bf39</td>\n",
       "      <td>active</td>\n",
       "    </tr>\n",
       "    <tr>\n",
       "      <th>14</th>\n",
       "      <td>Restorepoint</td>\n",
       "      <td>1</td>\n",
       "      <td>0.100000</td>\n",
       "      <td>2</td>\n",
       "      <td>5f53901a4e0ffa001a08ba2e</td>\n",
       "      <td>5f53971d4e0ffa001a08ba89</td>\n",
       "      <td>sagemaker-ecr-2020-09-17-10-28-14-518</td>\n",
       "      <td>09-16-Restorepoint-1-v3-006-73dcd68f</td>\n",
       "      <td>active</td>\n",
       "    </tr>\n",
       "  </tbody>\n",
       "</table>\n",
       "</div>"
      ],
      "text/plain": [
       "           client    device        sr  model_version  \\\n",
       "0           Kcdda         1  0.004000              1   \n",
       "2        SickKids         1  0.010000              2   \n",
       "3             WMU         1  0.000020              1   \n",
       "8       Peachtree         1  0.010000              5   \n",
       "9          Eugene         1  0.000500              1   \n",
       "10         Eugene         2  0.000500              1   \n",
       "11         Eugene  Firewall  0.000500              1   \n",
       "12  DouglasCounty         1  0.000122              1   \n",
       "14   Restorepoint         1  0.100000              2   \n",
       "\n",
       "                  account_id                 device_id  \\\n",
       "0   5ea84272173b3d0011b3621f  5ea9c267173b3d0011b36ee2   \n",
       "2   5e99a9e22386af0010ba7404  5ec54b3d4d4a86001106cf08   \n",
       "3   5ec7da694d4a86001106da83  5ec7db437f736700114636a9   \n",
       "8   5e85a5cc008b0c0010ed90da  5f07251af684220011267b3f   \n",
       "9   5ed4e7c5403dc20018b47e6c  5f19fcb75a19bc0011aa61dc   \n",
       "10  5ed4e7c5403dc20018b47e6c  5f1b1cbd5a19bc0011aa66ff   \n",
       "11  5ed4e7c5403dc20018b47e6c  5f19f5f45a19bc0011aa618e   \n",
       "12  5f15d4502997970011989705  5f1eee725a19bc0011aa73dd   \n",
       "14  5f53901a4e0ffa001a08ba2e  5f53971d4e0ffa001a08ba89   \n",
       "\n",
       "                            v1_model_name  \\\n",
       "0           06-24-Kcdda-1-v1-048-f9076f00   \n",
       "2   sagemaker-ecr-2020-06-28-15-01-51-517   \n",
       "3             06-24-WMU-1-v1-014-07b2bf1c   \n",
       "8       09-16-Peachtree-1-v1-004-55d9e3c8   \n",
       "9          07-29-Eugene-1-v1-043-a3dcd90a   \n",
       "10         07-29-Eugene-2-v1-036-a7983719   \n",
       "11  07-29-Eugene-Firewall-v1-011-d016f378   \n",
       "12  08-05-DouglasCounty-1-v1-025-b6d4f962   \n",
       "14  sagemaker-ecr-2020-09-17-10-28-14-518   \n",
       "\n",
       "                            v3_model_name  status  \n",
       "0           06-24-Kcdda-1-v3-001-ec8de1a5  active  \n",
       "2   sagemaker-ecr-2020-06-28-15-37-20-869  active  \n",
       "3             06-24-WMU-1-v3-036-85e12877  active  \n",
       "8       09-16-Peachtree-1-v3-032-a01d1236  active  \n",
       "9          07-29-Eugene-1-v3-050-0dd4dee8  active  \n",
       "10         07-29-Eugene-2-v3-021-fa6da1bb  active  \n",
       "11  07-29-Eugene-Firewall-v3-015-5ac69009  active  \n",
       "12  08-05-DouglasCounty-1-v3-006-1d38bf39  active  \n",
       "14   09-16-Restorepoint-1-v3-006-73dcd68f  active  "
      ]
     },
     "execution_count": 2,
     "metadata": {},
     "output_type": "execute_result"
    }
   ],
   "source": [
    "clients_devices = pd.read_csv('../clients_devices.csv')\n",
    "clients_devices = clients_devices[clients_devices.status == 'active']\n",
    "clients_devices"
   ]
  },
  {
   "cell_type": "code",
   "execution_count": 3,
   "metadata": {},
   "outputs": [
    {
     "name": "stdout",
     "output_type": "stream",
     "text": [
      "Working on Sioux device=1 model=1\n"
     ]
    }
   ],
   "source": [
    "bucket='rsrch-cynamics-datasets'\n",
    "\n",
    "devices = [\n",
    "    ('Sioux', 1, 1/1000,1)\n",
    "]\n",
    "client, device, sr, model_version = devices[0]\n",
    "print(f'Working on {client} device={device} model={model_version}')"
   ]
  },
  {
   "cell_type": "code",
   "execution_count": 8,
   "metadata": {},
   "outputs": [],
   "source": [
    "days_by_type = {\n",
    "'train': [\"2023-02-01\"],\n",
    "   # first 3 days\n",
    "'val': [],\n",
    "    #last 2 days\n",
    "    #aviv: remove comment when adding test days\n",
    "    #for sanity check later\n",
    "    'test':  []\n",
    "}"
   ]
  },
  {
   "cell_type": "markdown",
   "metadata": {},
   "source": [
    "## Read training, extract 'tracked_values'"
   ]
  },
  {
   "cell_type": "code",
   "execution_count": 9,
   "metadata": {},
   "outputs": [
    {
     "name": "stdout",
     "output_type": "stream",
     "text": [
      "Tracked values loaded successfully from clients/Sioux/sr=0.001/device=1/version=3/model=1/type=train/tracked_values.json\n"
     ]
    }
   ],
   "source": [
    "try:\n",
    "    s3_filepath = f'clients/{client}/sr={sr}/device={device}/version=3/model={model_version}/type=train/tracked_values.json'\n",
    "    tracked_values = eval(boto3.resource('s3').Object(bucket, s3_filepath).get()['Body'].read())\n",
    "    print(f'Tracked values loaded successfully from {s3_filepath}')\n",
    "except:\n",
    "    training_df_list = {}\n",
    "    for day in days_by_type['train']:\n",
    "        print(f'Loading {day} from S3 ', end='...')\n",
    "        sampled_df = pd.read_csv(f's3://{bucket}/clients/{client}/sr={sr}/device={device}/sampled/{day}.csv.gz')\n",
    "        print('Done!', sampled_df.shape)\n",
    "\n",
    "#         if day == '2020-07-27':\n",
    "#             fp_start, fp_end = 1595856340, 1595882714\n",
    "#             sampled_df = sampled_df[(sampled_df.time_window >= fp_start-60) & (sampled_df.time_window <= fp_end+60)]\n",
    "        mean_packets_count = sampled_df.groupby('time_window').sum()['flowPackets'].mean()\n",
    "        print(sampled_df.shape, mean_packets_count)\n",
    "        training_df_list[day] = sampled_df\n",
    "\n",
    "    print('Extracting tracked_values...', end='')\n",
    "    tracked_values = get_tracked_values(pd.concat(training_df_list.values()), \n",
    "                                        f'clients/{client}/sr={sr}/device={device}/version=3/model={model_version}/type=train/',\n",
    "                                        connections_tracking_size=10_000)\n",
    "    print('Done!')\n",
    "    del training_df_list"
   ]
  },
  {
   "cell_type": "markdown",
   "metadata": {},
   "source": [
    "## Read each day, extract X & y for v1 and v2"
   ]
  },
  {
   "cell_type": "code",
   "execution_count": 10,
   "metadata": {},
   "outputs": [
    {
     "name": "stdout",
     "output_type": "stream",
     "text": [
      "Working on Sioux device=1\n"
     ]
    }
   ],
   "source": [
    "print(f'Working on {client} device={device}')\n",
    "s3_bucket = boto3.resource('s3').Bucket('rsrch-cynamics-datasets')"
   ]
  },
  {
   "cell_type": "code",
   "execution_count": 11,
   "metadata": {},
   "outputs": [
    {
     "name": "stdout",
     "output_type": "stream",
     "text": [
      "----------------\n",
      "Working on train\n",
      "----------------\n",
      "Loading 2023-02-01 from S3 ...Done! (137992, 8)\n",
      "Shape after sampling: (137992, 8)\n",
      "Mean packet count: 78.2589048378522\n",
      "Generating X1 for 2023-02-01...Saving..."
     ]
    },
    {
     "name": "stderr",
     "output_type": "stream",
     "text": [
      "/home/ec2-user/anaconda3/envs/tensorflow_p36/lib/python3.6/site-packages/boto3/compat.py:88: PythonDeprecationWarning: Boto3 will no longer support Python 3.6 starting May 30, 2022. To continue receiving service updates, bug fixes, and security updates please upgrade to Python 3.7 or later. More information can be found here: https://aws.amazon.com/blogs/developer/python-support-policy-updates-for-aws-sdks-and-tools/\n",
      "  warnings.warn(warning, PythonDeprecationWarning)\n"
     ]
    },
    {
     "name": "stdout",
     "output_type": "stream",
     "text": [
      "(5653, 20, 18) Done!\n",
      "Generating X3 for 2023-02-01...Saving...(5653, 20, 594) Done!\n",
      "2023-02-01 Counter({False: 5653})\n"
     ]
    },
    {
     "data": {
      "image/png": "[encoded data removed]",
      "text/plain": [
       "<Figure size 1152x648 with 1 Axes>"
      ]
     },
     "metadata": {
      "needs_background": "light"
     },
     "output_type": "display_data"
    },
    {
     "name": "stdout",
     "output_type": "stream",
     "text": [
      "----------------\n",
      "Working on val\n",
      "----------------\n",
      "----------------\n",
      "Working on test\n",
      "----------------\n"
     ]
    }
   ],
   "source": [
    "\n",
    "\n",
    "for dataset_type, days in days_by_type.items():\n",
    "#     if dataset_type != 'test':\n",
    "#         continue\n",
    "    print(f'----------------\\nWorking on {dataset_type}\\n----------------')\n",
    "    for day in days:\n",
    "        print(f'Loading {day} from S3 ', end='...')\n",
    "        sampled_df = pd.read_csv(f's3://{bucket}/clients/{client}/sr={sr}/device={device}/sampled/{day}.csv.gz')\n",
    "        print('Done!', sampled_df.shape)\n",
    "\n",
    "        create_X_v1_v3(sampled_df, day, client, device, sr, model_version, dataset_type)"
   ]
  },
  {
   "cell_type": "code",
   "execution_count": null,
   "metadata": {},
   "outputs": [],
   "source": []
  }
 ],
 "metadata": {
  "kernelspec": {
   "display_name": "conda_tensorflow_p36",
   "language": "python",
   "name": "conda_tensorflow_p36"
  },
  "language_info": {
   "codemirror_mode": {
    "name": "ipython",
    "version": 3
   },
   "file_extension": ".py",
   "mimetype": "text/x-python",
   "name": "python",
   "nbconvert_exporter": "python",
   "pygments_lexer": "ipython3",
   "version": "3.6.13"
  }
 },
 "nbformat": 4,
 "nbformat_minor": 4
}
