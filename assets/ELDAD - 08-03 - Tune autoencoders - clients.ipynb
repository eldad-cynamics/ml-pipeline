{
 "cells": [
  {
   "cell_type": "markdown",
   "metadata": {},
   "source": [
    "## Set up the notebook instance to support local mode\n",
    "Currently you need to install docker-compose in order to use local mode (i.e., testing the container in the notebook instance without pushing it to ECR)."
   ]
  },
  {
   "cell_type": "code",
   "execution_count": 1,
   "metadata": {
    "scrolled": true
   },
   "outputs": [
    {
     "name": "stdout",
     "output_type": "stream",
     "text": [
      "The user has root access.\n",
      "SageMaker instance route table setup is ok. We are good to go.\n",
      "SageMaker instance routing for Docker is ok. We are good to go!\n"
     ]
    }
   ],
   "source": [
    "!/bin/bash setup.sh"
   ]
  },
  {
   "cell_type": "code",
   "execution_count": 1,
   "metadata": {},
   "outputs": [
    {
     "data": {
      "text/plain": [
       "'arn:aws:iam::662612070855:role/service-role/AmazonSageMaker-ExecutionRole-20200303T115551'"
      ]
     },
     "execution_count": 1,
     "metadata": {},
     "output_type": "execute_result"
    }
   ],
   "source": [
    "import sagemaker \n",
    "role = sagemaker.get_execution_role()\n",
    "role"
   ]
  },
  {
   "cell_type": "markdown",
   "metadata": {},
   "source": [
    "## Set up the environment\n",
    "We will set up a few things before starting the workflow. \n",
    "\n",
    "1. get the execution role which will be passed to sagemaker for accessing your resources such as s3 bucket\n",
    "2. specify the s3 bucket and prefix where training data set and model artifacts are stored"
   ]
  },
  {
   "cell_type": "code",
   "execution_count": 2,
   "metadata": {},
   "outputs": [
    {
     "name": "stdout",
     "output_type": "stream",
     "text": [
      "WARNING:tensorflow:From /home/ec2-user/anaconda3/envs/tensorflow_p36/cpu/lib/python3.6/site-packages/tensorflow_core/__init__.py:1473: The name tf.estimator.inputs is deprecated. Please use tf.compat.v1.estimator.inputs instead.\n",
      "\n"
     ]
    },
    {
     "name": "stderr",
     "output_type": "stream",
     "text": [
      "/home/ec2-user/anaconda3/envs/tensorflow_p36/lib/python3.6/site-packages/boto3/compat.py:88: PythonDeprecationWarning: Boto3 will no longer support Python 3.6 starting May 30, 2022. To continue receiving service updates, bug fixes, and security updates please upgrade to Python 3.7 or later. More information can be found here: https://aws.amazon.com/blogs/developer/python-support-policy-updates-for-aws-sdks-and-tools/\n",
      "  warnings.warn(warning, PythonDeprecationWarning)\n"
     ]
    }
   ],
   "source": [
    "import tensorflow as tf\n",
    "\n",
    "import os\n",
    "import shlex\n",
    "import boto3\n",
    "import tarfile\n",
    "import sagemaker\n",
    "import subprocess\n",
    "from time import gmtime, strftime\n",
    "from sagemaker.estimator import Estimator\n",
    "\n",
    "from tuning_utils import *\n",
    "\n",
    "region = boto3.Session().region_name\n",
    "\n",
    "sagemaker_session = sagemaker.Session()\n",
    "smclient = boto3.client('sagemaker')\n",
    "\n",
    "repository = 'sagemaker-ecr'\n",
    "bucket = 'rsrch-cynamics-datasets'\n",
    "prefix = 'autoencoders'\n",
    "tensorflow_version = '2.1.0-py3'\n",
    "\n",
    "\n",
    "role = sagemaker.get_execution_role()\n",
    "\n",
    "#fixex attempts below - restart notebook solved it\n",
    "#iam = boto3.client('iam')\n",
    "#role = iam.get_role(RoleName='arn:aws:iam::662612070855:role/service-role/AmazonSageMaker-ExecutionRole-20200303T115551')['Role']['Arn']\n",
    "#try:\n",
    "#    role = sagemaker.get_execution_role()\n",
    "#except ValueError:\n",
    "#iam = boto3.client('iam')\n",
    "#role = iam.get_role(RoleName='AmazonSageMakerFullAccess')['Role']['Arn']\n",
    "#from sagemaker import get_execution_role\n",
    "#sagemaker_session = sagemaker.Session()\n",
    "#role = get_execution_role()"
   ]
  },
  {
   "cell_type": "markdown",
   "metadata": {},
   "source": [
    "## Prepare the data"
   ]
  },
  {
   "cell_type": "code",
   "execution_count": 3,
   "metadata": {},
   "outputs": [
    {
     "name": "stdout",
     "output_type": "stream",
     "text": [
      "Sioux 1 0.001 1 v1\n",
      "{'train': 's3://rsrch-cynamics-datasets/clients/Sioux/sr=0.001/device=1/version=1/model=1/type=train/', 'val': 's3://rsrch-cynamics-datasets/clients/Sioux/sr=0.001/device=1/version=1/model=1/type=val/'}\n"
     ]
    }
   ],
   "source": [
    "devices_models = [\n",
    "('Sioux', 1, 1/1000,1)\n",
    "]\n",
    "\n",
    "features_version = 1\n",
    "client, device, sr, model_version = devices_models[-1]\n",
    "print(client, device, sr, model_version, f'v{features_version}')\n",
    "\n",
    "channels = {\n",
    "    'train': f's3://rsrch-cynamics-datasets/clients/{client}/sr={sr}/device={device}/version={features_version}/model={model_version}/type=train/',\n",
    "    'val': f's3://rsrch-cynamics-datasets/clients/{client}/sr={sr}/device={device}/version={features_version}/model={model_version}/type=val/',\n",
    "}\n",
    "print(channels)\n"
   ]
  },
  {
   "cell_type": "markdown",
   "metadata": {},
   "source": [
    "## Building the image\n",
    "We will build the docker image using the Tensorflow versions on dockerhub. The full list of Tensorflow versions can be found at https://hub.docker.com/r/tensorflow/tensorflow/tags/\n",
    "\n",
    "\n",
    "## Pushing the container to ECR\n",
    "Now that we've tested the container locally and it works fine, we can move on to run the hyperparmeter tuning. Before kicking off the tuning job, you need to push the docker image to ECR first. \n",
    "\n",
    "The cell below will create the ECR repository, if it does not exist yet, and push the image to ECR."
   ]
  },
  {
   "cell_type": "code",
   "execution_count": 4,
   "metadata": {},
   "outputs": [
    {
     "name": "stdout",
     "output_type": "stream",
     "text": [
      "building image:662612070855.dkr.ecr.eu-west-1.amazonaws.com/sagemaker-ecr:autoencoders Done!\n",
      "WARNING! Using --password via the CLI is insecure. Use --password-stdin.\n",
      "WARNING! Your password will be stored unencrypted in /home/ec2-user/.docker/config.json.\n",
      "Configure a credential helper to remove this warning. See\n",
      "https://docs.docker.com/engine/reference/commandline/login/#credentials-store\n",
      "\n",
      "Login Succeeded\n",
      "The push refers to repository [662612070855.dkr.ecr.eu-west-1.amazonaws.com/sagemaker-ecr]\n",
      "\n",
      "\u001b[1B70a9d75f: Preparing \n",
      "\u001b[1B43a44c71: Preparing \n",
      "\u001b[1Bcba87b53: Preparing \n",
      "\u001b[1B8cb63302: Preparing \n",
      "\u001b[1Bafd6f834: Preparing \n",
      "\u001b[1B40119697: Preparing \n",
      "\u001b[1Bf89939b4: Preparing \n",
      "\u001b[1B4f91799b: Preparing \n",
      "\u001b[1B2e59dcc5: Preparing \n",
      "\u001b[1Bb2c9ed16: Preparing \n",
      "\u001b[1Bfb8f161b: Preparing \n",
      "\u001b[1B43ea46a8: Preparing \n",
      "\u001b[1Bfcc4a1a8: Preparing \n",
      "\u001b[12Bba87b53: Pushed   143.5MB/139.9MB4A\u001b[2K\u001b[6A\u001b[2K\u001b[5A\u001b[2K\u001b[3A\u001b[2K\u001b[1A\u001b[2K\u001b[12A\u001b[2K\u001b[14A\u001b[2K\u001b[12A\u001b[2K\u001b[13A\u001b[2K\u001b[12A\u001b[2K\u001b[13A\u001b[2K\u001b[12A\u001b[2K\u001b[12A\u001b[2K\u001b[12A\u001b[2K\u001b[13A\u001b[2K\u001b[12A\u001b[2K\u001b[13A\u001b[2K\u001b[12A\u001b[2K\u001b[12A\u001b[2K\u001b[12A\u001b[2K\u001b[12A\u001b[2K\u001b[13A\u001b[2K\u001b[12A\u001b[2K\u001b[13A\u001b[2K\u001b[12A\u001b[2K\u001b[13A\u001b[2K\u001b[12A\u001b[2K\u001b[13A\u001b[2K\u001b[12A\u001b[2K\u001b[13A\u001b[2K\u001b[12A\u001b[2K\u001b[13A\u001b[2K\u001b[13A\u001b[2K\u001b[12A\u001b[2K\u001b[12A\u001b[2K\u001b[13A\u001b[2K\u001b[12A\u001b[2K\u001b[13A\u001b[2K\u001b[12A\u001b[2K\u001b[13A\u001b[2K\u001b[12A\u001b[2K\u001b[12A\u001b[2K\u001b[13A\u001b[2K\u001b[12A\u001b[2K\u001b[13A\u001b[2K\u001b[12A\u001b[2K\u001b[13A\u001b[2K\u001b[13A\u001b[2K\u001b[13A\u001b[2K\u001b[12A\u001b[2K\u001b[12A\u001b[2K\u001b[12A\u001b[2K\u001b[12A\u001b[2K\u001b[13A\u001b[2K\u001b[12A\u001b[2K\u001b[12A\u001b[2K\u001b[12A\u001b[2K\u001b[13A\u001b[2K\u001b[12A\u001b[2K\u001b[13A\u001b[2K\u001b[12A\u001b[2K\u001b[12A\u001b[2K\u001b[13A\u001b[2K\u001b[12A\u001b[2K\u001b[13A\u001b[2K\u001b[12A\u001b[2K\u001b[13A\u001b[2K\u001b[12A\u001b[2K\u001b[12A\u001b[2K\u001b[12A\u001b[2K\u001b[12A\u001b[2K\u001b[12A\u001b[2K\u001b[13A\u001b[2K\u001b[12A\u001b[2K\u001b[13A\u001b[2K\u001b[12A\u001b[2K\u001b[12A\u001b[2K\u001b[12A\u001b[2K\u001b[12A\u001b[2K\u001b[13A\u001b[2K\u001b[12A\u001b[2K\u001b[12A\u001b[2K\u001b[12A\u001b[2K\u001b[12A\u001b[2K\u001b[12A\u001b[2Kautoencoders: digest: sha256:e1e8bdb43eba6e5fd4dd79b883212242340b68d2f60d118cb86cc24dd38da1cc size: 3256\n",
      "CPU times: user 213 ms, sys: 44.8 ms, total: 257 ms\n",
      "Wall time: 1min 15s\n"
     ]
    }
   ],
   "source": [
    "%%time\n",
    "\n",
    "def build_image(name, version):\n",
    "    cmd = 'docker build -t %s --build-arg VERSION=%s -f Dockerfile .' % (name, version)\n",
    "    subprocess.check_call(shlex.split(cmd))\n",
    "\n",
    "account = boto3.client('sts').get_caller_identity()['Account']\n",
    "\n",
    "image_name = f'{account}.dkr.ecr.{region}.amazonaws.com/{repository}:{prefix}'\n",
    "\n",
    "print('building image:'+image_name, end=' ')\n",
    "build_image(image_name, tensorflow_version)\n",
    "print('Done!')\n",
    "\n",
    "# # If the repository doesn't exist in ECR, create it.\n",
    "# exist_repo = !aws ecr describe-repositories --repository-names {repository} > /dev/null 2>&1\n",
    "\n",
    "# if not exist_repo:\n",
    "#     print('Creating')\n",
    "#     !aws ecr create-repository --repository-name {repository} > /dev/null\n",
    "\n",
    "# Get the login command from ECR and execute it directly\n",
    "!$(aws ecr get-login --region {region} --no-include-email)\n",
    "\n",
    "!docker push {image_name}\n",
    "\n"
   ]
  },
  {
   "cell_type": "markdown",
   "metadata": {},
   "source": [
    "# Run experiment on all combinations"
   ]
  },
  {
   "cell_type": "code",
   "execution_count": 5,
   "metadata": {},
   "outputs": [
    {
     "data": {
      "text/plain": [
       "'InProgress'"
      ]
     },
     "metadata": {},
     "output_type": "display_data"
    },
    {
     "name": "stdout",
     "output_type": "stream",
     "text": [
      "Uploading code to s3://rsrch-cynamics-datasets/TuningJobs/test-eldad/test-eldad-Sioux-1-v1\n"
     ]
    },
    {
     "name": "stderr",
     "output_type": "stream",
     "text": [
      "/home/ec2-user/anaconda3/envs/tensorflow_p36/lib/python3.6/site-packages/boto3/compat.py:88: PythonDeprecationWarning: Boto3 will no longer support Python 3.6 starting May 30, 2022. To continue receiving service updates, bug fixes, and security updates please upgrade to Python 3.7 or later. More information can be found here: https://aws.amazon.com/blogs/developer/python-support-policy-updates-for-aws-sdks-and-tools/\n",
      "  warnings.warn(warning, PythonDeprecationWarning)\n"
     ]
    },
    {
     "data": {
      "text/plain": [
       "'InProgress'"
      ]
     },
     "metadata": {},
     "output_type": "display_data"
    },
    {
     "name": "stdout",
     "output_type": "stream",
     "text": [
      "Uploading code to s3://rsrch-cynamics-datasets/TuningJobs/test-eldad/test-eldad-Sioux-1-v3\n"
     ]
    }
   ],
   "source": [
    "training_image = image_name\n",
    "test = False\n",
    "global_jobs = 'test-eldad' + ('-test' if test else '')\n",
    "\n",
    "for features_version in [1,3]:\n",
    "    for client, device, sr, model_version in devices_models:\n",
    "        tuning_job_name = f'{global_jobs}-{client}-{device}-v{features_version}'\n",
    "        channels = {\n",
    "            'train': f's3://rsrch-cynamics-datasets/clients/{client}/sr={sr}/device={device}/version={features_version}/model={model_version}/type=train/',\n",
    "            'val': f's3://rsrch-cynamics-datasets/clients/{client}/sr={sr}/device={device}/version={features_version}/model={model_version}/type=val/',\n",
    "        }\n",
    "        tuning_job_config = get_config(max_jobs=1 if test else 50, max_parallel=2)\n",
    "        training_job_definition = get_definition(training_image, channels, bucket, \n",
    "                                                 global_jobs, tuning_job_name, 1 if test else 500,\n",
    "                                                 client, device, sr, role)\n",
    "        training_job_definition['StaticHyperParameters']['model_version'] = str(model_version)\n",
    "        training_job_definition['StaticHyperParameters']['features_version'] = str(features_version)\n",
    "        training_job_definition['ResourceConfig']['InstanceType'] = 'ml.m5.xlarge' if features_version == 1 else 'ml.m5.2xlarge'\n",
    "        #display(training_job_definition['OutputDataConfig'])\n",
    "        \n",
    "        try:\n",
    "            output = smclient.create_hyper_parameter_tuning_job(HyperParameterTuningJobName=tuning_job_name,\n",
    "                                                                HyperParameterTuningJobConfig=tuning_job_config,\n",
    "                                                                TrainingJobDefinition=training_job_definition,\n",
    "                                                               )\n",
    "\n",
    "            status = smclient.describe_hyper_parameter_tuning_job(HyperParameterTuningJobName=tuning_job_name)['HyperParameterTuningJobStatus']\n",
    "            display(status)\n",
    "            if status =='InProgress':\n",
    "                upload_code(training_job_definition['OutputDataConfig']['S3OutputPath'])\n",
    "        except Exception as e:\n",
    "            print(e)"
   ]
  },
  {
   "cell_type": "code",
   "execution_count": null,
   "metadata": {},
   "outputs": [],
   "source": []
  }
 ],
 "metadata": {
  "kernelspec": {
   "display_name": "conda_tensorflow_p36",
   "language": "python",
   "name": "conda_tensorflow_p36"
  },
  "language_info": {
   "codemirror_mode": {
    "name": "ipython",
    "version": 3
   },
   "file_extension": ".py",
   "mimetype": "text/x-python",
   "name": "python",
   "nbconvert_exporter": "python",
   "pygments_lexer": "ipython3",
   "version": "3.6.13"
  },
  "notice": "Copyright 2018 Amazon.com, Inc. or its affiliates. All Rights Reserved.  Licensed under the Apache License, Version 2.0 (the \"License\"). You may not use this file except in compliance with the License. A copy of the License is located at http://aws.amazon.com/apache2.0/ or in the \"license\" file accompanying this file. This file is distributed on an \"AS IS\" BASIS, WITHOUT WARRANTIES OR CONDITIONS OF ANY KIND, either express or implied. See the License for the specific language governing permissions and limitations under the License."
 },
 "nbformat": 4,
 "nbformat_minor": 4
}
