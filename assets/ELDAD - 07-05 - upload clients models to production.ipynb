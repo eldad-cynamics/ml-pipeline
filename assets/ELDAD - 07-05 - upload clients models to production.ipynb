{
 "cells": [
  {
   "cell_type": "code",
   "execution_count": 1,
   "metadata": {},
   "outputs": [],
   "source": [
    "import boto3\n",
    "import pandas as pd"
   ]
  },
  {
   "cell_type": "code",
   "execution_count": 1,
   "metadata": {},
   "outputs": [],
   "source": [
    "bucket = 'rsrch-cynamics-datasets'\n",
    "devices = [\n",
    "    ('Sioux',1,1/1000,1,'06-22-Sioux-1-v1-029-9d0b5553','06-22-Sioux-1-v3-010-4616c69a')\n",
    "]\n",
    "client, device, sr, model_version, v1_model, v3_model = devices[0]\n"
   ]
  },
  {
   "cell_type": "markdown",
   "metadata": {},
   "source": [
    "# Copy device models"
   ]
  },
  {
   "cell_type": "code",
   "execution_count": 4,
   "metadata": {},
   "outputs": [
    {
     "name": "stdout",
     "output_type": "stream",
     "text": [
      "copy: s3://rsrch-cynamics-datasets/clients/Guilford/sr=0.01/device=1/version=3/model=1/type=train/tracked_values.json to s3://rsrch-cynamics-datasets/TO_PROD/Guilford/device=1/tracked_values.json\n",
      "copy: s3://rsrch-cynamics-datasets/clients/Guilford/sr=0.01/device=1/version=1/model=1/03-16-Guilford-1-v1-003-336da5d6/baseline.csv to s3://rsrch-cynamics-datasets/TO_PROD/Guilford/device=1/v1_baseline.csv\n",
      "copy: s3://rsrch-cynamics-datasets/clients/Guilford/sr=0.01/device=1/version=3/model=1/03-16-Guilford-1-v3-007-5ab0ca39/baseline.csv to s3://rsrch-cynamics-datasets/TO_PROD/Guilford/device=1/v3_baseline.csv\n",
      "copy: s3://rsrch-cynamics-datasets/clients/Guilford/sr=0.01/device=1/version=1/model=1/03-16-Guilford-1-v1-003-336da5d6/model.h5 to s3://rsrch-cynamics-datasets/TO_PROD/Guilford/device=1/v1_model.h5\n",
      "copy: s3://rsrch-cynamics-datasets/clients/Guilford/sr=0.01/device=1/version=3/model=1/03-16-Guilford-1-v3-007-5ab0ca39/model.h5 to s3://rsrch-cynamics-datasets/TO_PROD/Guilford/device=1/v3_model.h5\n",
      "copy: s3://rsrch-cynamics-datasets/clients/Guilford/sr=0.01/device=1/version=3/model=1/03-16-Guilford-1-v3-007-5ab0ca39/training.loss to s3://rsrch-cynamics-datasets/TO_PROD/Guilford/device=1/v3_train_loss.h5\n"
     ]
    }
   ],
   "source": [
    "#research bucket\n",
    "#we'll need to save in the final prod bucket\n",
    "!aws s3 cp s3://{bucket}/clients/{client}/sr={sr}/device={device}/version=3/model={model_version}/type=train/tracked_values.json s3://{bucket}/TO_PROD/{client}/device={device}/tracked_values.json\n",
    "        \n",
    "!aws s3 cp s3://{bucket}/clients/{client}/sr={sr}/device={device}/version=1/model={model_version}/{v1_model}/baseline.csv s3://{bucket}/TO_PROD/{client}/device={device}/v1_baseline.csv\n",
    "!aws s3 cp s3://{bucket}/clients/{client}/sr={sr}/device={device}/version=3/model={model_version}/{v3_model}/baseline.csv s3://{bucket}/TO_PROD/{client}/device={device}/v3_baseline.csv\n",
    "\n",
    "!aws s3 cp s3://{bucket}/clients/{client}/sr={sr}/device={device}/version=1/model={model_version}/{v1_model}/model.h5 s3://{bucket}/TO_PROD/{client}/device={device}/v1_model.h5\n",
    "!aws s3 cp s3://{bucket}/clients/{client}/sr={sr}/device={device}/version=3/model={model_version}/{v3_model}/model.h5 s3://{bucket}/TO_PROD/{client}/device={device}/v3_model.h5\n",
    "        \n",
    "!aws s3 cp s3://{bucket}/clients/{client}/sr={sr}/device={device}/version=3/model={model_version}/{v3_model}/training.loss s3://{bucket}/TO_PROD/{client}/device={device}/v3_train_loss.h5\n"
   ]
  }
 ],
 "metadata": {
  "kernelspec": {
   "display_name": "conda_python3",
   "language": "python",
   "name": "conda_python3"
  },
  "language_info": {
   "codemirror_mode": {
    "name": "ipython",
    "version": 3
   },
   "file_extension": ".py",
   "mimetype": "text/x-python",
   "name": "python",
   "nbconvert_exporter": "python",
   "pygments_lexer": "ipython3",
   "version": "3.6.13"
  }
 },
 "nbformat": 4,
 "nbformat_minor": 4
}
