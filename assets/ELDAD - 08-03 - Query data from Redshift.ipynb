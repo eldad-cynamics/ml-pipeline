{
 "cells": [
  {
   "cell_type": "code",
   "execution_count": 1,
   "metadata": {},
   "outputs": [],
   "source": [
    "%load_ext autoreload\n",
    "%autoreload 2\n",
    "\n",
    "import numpy as np\n",
    "import pandas as pd\n",
    "from create_dataset_utils import query_redshift, create_X_v1_v3"
   ]
  },
  {
   "cell_type": "code",
   "execution_count": 2,
   "metadata": {},
   "outputs": [
    {
     "data": {
      "text/plain": [
       "['2023-02-01']"
      ]
     },
     "execution_count": 2,
     "metadata": {},
     "output_type": "execute_result"
    }
   ],
   "source": [
    "#read last 5 days - 3 for train, 2 for val\n",
    "\n",
    "from datetime import timedelta, date\n",
    "\n",
    "def daterange(start_date, end_date):\n",
    "    for n in range(int((end_date - start_date).days)):\n",
    "        yield (start_date + timedelta(n)).strftime(\"%Y-%m-%d\")\n",
    "\n",
    "days = list(daterange(date(2023, 2, 1), date(2023, 2, 2)))\n",
    "days"
   ]
  },
  {
   "cell_type": "code",
   "execution_count": 6,
   "metadata": {},
   "outputs": [],
   "source": [
    "clients_devices = [\n",
    "    ('Sioux', 1, 1/1000, '60a52c5d7c0df300090597c2', '60a66eae1265d10009c77766'),\n",
    "]"
   ]
  },
  {
   "cell_type": "code",
   "execution_count": 8,
   "metadata": {},
   "outputs": [
    {
     "name": "stdout",
     "output_type": "stream",
     "text": [
      "Sioux 1 0.001 60a52c5d7c0df300090597c2 60a66eae1265d10009c77766\n",
      "2023-02-01\n",
      "Querying Sioux, device=1, day=2023-02-01...(0, 8)...Renaming...'time_window'\n"
     ]
    }
   ],
   "source": [
    "for client, device, sr, account_id, device_id in clients_devices:\n",
    "    print(client, device, sr, account_id, device_id)\n",
    "    for day in days:\n",
    "        print(day)\n",
    "        try:\n",
    "            df = query_redshift(client, device, sr, day, account_id, device_id)\n",
    "            tdf = df.groupby('time_window').agg({'flowPackets': 'sum'})\n",
    "            #print(tdf.reindex(list(range(tdf.index.min(), tdf.index.max()+1, 5))).fillna(0).mean().values[0])\n",
    "            print(np.mean(list(tdf['flowPackets'].values) + [0] * (17280 - len(tdf['flowPackets'].values))))\n",
    "            print(\"less than a day: \"+str(np.mean(list(tdf['flowPackets'].values))))\n",
    "        except Exception as e:\n",
    "            print(e)"
   ]
  },
  {
   "cell_type": "code",
   "execution_count": null,
   "metadata": {},
   "outputs": [],
   "source": []
  },
  {
   "cell_type": "code",
   "execution_count": null,
   "metadata": {},
   "outputs": [],
   "source": []
  },
  {
   "cell_type": "raw",
   "metadata": {},
   "source": []
  }
 ],
 "metadata": {
  "kernelspec": {
   "display_name": "conda_amazonei_tensorflow2_p36",
   "language": "python",
   "name": "conda_amazonei_tensorflow2_p36"
  },
  "language_info": {
   "codemirror_mode": {
    "name": "ipython",
    "version": 3
   },
   "file_extension": ".py",
   "mimetype": "text/x-python",
   "name": "python",
   "nbconvert_exporter": "python",
   "pygments_lexer": "ipython3",
   "version": "3.6.13"
  }
 },
 "nbformat": 4,
 "nbformat_minor": 4
}
